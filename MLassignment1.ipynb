{
  "nbformat": 4,
  "nbformat_minor": 0,
  "metadata": {
    "colab": {
      "provenance": [],
      "authorship_tag": "ABX9TyML/d/Mxq9mwfrQIr4B8RUK",
      "include_colab_link": true
    },
    "kernelspec": {
      "name": "python3",
      "display_name": "Python 3"
    },
    "language_info": {
      "name": "python"
    }
  },
  "cells": [
    {
      "cell_type": "markdown",
      "metadata": {
        "id": "view-in-github",
        "colab_type": "text"
      },
      "source": [
        "<a href=\"https://colab.research.google.com/github/BALANJANEYULU-799/ML-ASSIGNMENTS/blob/main/MLassignment1.ipynb\" target=\"_parent\"><img src=\"https://colab.research.google.com/assets/colab-badge.svg\" alt=\"Open In Colab\"/></a>"
      ]
    },
    {
      "cell_type": "markdown",
      "source": [
        "1.\n",
        "Perform arithmetic operations on NumPy arrays."
      ],
      "metadata": {
        "id": "UOSch-wxYPc1"
      }
    },
    {
      "cell_type": "code",
      "source": [
        "import numpy as np"
      ],
      "metadata": {
        "id": "Q1S5BrcLY0CJ"
      },
      "execution_count": null,
      "outputs": []
    },
    {
      "cell_type": "code",
      "source": [
        "a=np.array([[1,2,3],[4,5,6]])\n",
        "b=np.array([[6,5,4],[3,2,1]])\n",
        "print(\"a=\\n\",a)\n",
        "print(\"b=\\n\",b)\n",
        "print(\"a+b\\n\",a+b)"
      ],
      "metadata": {
        "id": "oZrfDT07Y8_M",
        "colab": {
          "base_uri": "https://localhost:8080/"
        },
        "outputId": "a6184625-7496-4888-8d73-8abdc40b9fd1"
      },
      "execution_count": null,
      "outputs": [
        {
          "output_type": "stream",
          "name": "stdout",
          "text": [
            "a=\n",
            " [[1 2 3]\n",
            " [4 5 6]]\n",
            "b=\n",
            " [[6 5 4]\n",
            " [3 2 1]]\n",
            "a+b\n",
            " [[7 7 7]\n",
            " [7 7 7]]\n"
          ]
        }
      ]
    },
    {
      "cell_type": "markdown",
      "source": [
        "2.\n",
        "Write a script to compute the mean and standard deviation of a NumPy array."
      ],
      "metadata": {
        "id": "K2mFq-SHZ24W"
      }
    },
    {
      "cell_type": "code",
      "source": [
        "import numpy as np\n",
        "a=np.array([6,7,8,9,14,18])\n",
        "sum=0\n",
        "for i in a:\n",
        "  sum=sum+i;\n",
        "n=a.size\n",
        "print(\"mean=\",(sum/n))\n",
        "print(\"standard deviation=\",np.std(a))"
      ],
      "metadata": {
        "colab": {
          "base_uri": "https://localhost:8080/"
        },
        "id": "-WqZSbfTcLyw",
        "outputId": "12f3c798-cf68-47aa-a191-c3767219a444"
      },
      "execution_count": null,
      "outputs": [
        {
          "output_type": "stream",
          "name": "stdout",
          "text": [
            "mean= 10.333333333333334\n",
            "standard deviation= 4.268749491621899\n"
          ]
        }
      ]
    },
    {
      "cell_type": "markdown",
      "source": [
        "Create a NumPy array of integers from 10 to 50 with a step size of 5."
      ],
      "metadata": {
        "id": "A8cI8oZYcajb"
      }
    },
    {
      "cell_type": "code",
      "source": [
        "import numpy as np\n",
        "a=np.arange(10,50,5)\n",
        "print(a)"
      ],
      "metadata": {
        "colab": {
          "base_uri": "https://localhost:8080/"
        },
        "id": "JePeH3_ZcmoT",
        "outputId": "6f1687ac-0dfd-4c2f-8807-6224ccd1bad6"
      },
      "execution_count": null,
      "outputs": [
        {
          "output_type": "stream",
          "name": "stdout",
          "text": [
            "[10 15 20 25 30 35 40 45]\n"
          ]
        }
      ]
    },
    {
      "cell_type": "markdown",
      "source": [
        "4.\n",
        "Reshape the array into a 2x4 matrix."
      ],
      "metadata": {
        "id": "pYubxjurdn51"
      }
    },
    {
      "cell_type": "code",
      "source": [
        "import numpy as np\n",
        "arr=np.array([9,8,7,6,5,4,3,2])\n",
        "resize=arr.reshape(2,4)\n",
        "print(resize)"
      ],
      "metadata": {
        "colab": {
          "base_uri": "https://localhost:8080/"
        },
        "id": "P09uKCXXdptR",
        "outputId": "370b8c59-b057-491b-e8e7-f97e7a9475f0"
      },
      "execution_count": null,
      "outputs": [
        {
          "output_type": "stream",
          "name": "stdout",
          "text": [
            "[[9 8 7 6]\n",
            " [5 4 3 2]]\n"
          ]
        }
      ]
    },
    {
      "cell_type": "markdown",
      "source": [
        "5.\n",
        "Given the array arr = np.array([[1, 2, 3], [4, 5, 6], [7, 8, 9]]):\n",
        "•\n",
        "Extract the sub-matrix containing the last two rows and first two columns.\n",
        "•\n",
        "Replace all elements greater than 4 with 0."
      ],
      "metadata": {
        "id": "fd66ic_0eBvE"
      }
    },
    {
      "cell_type": "code",
      "source": [
        "import numpy as np\n",
        "arr = np.array([[1, 2, 3], [4, 5, 6], [7, 8, 9]])\n",
        "print(\"array=\\n\",arr)\n",
        "a=arr[1:,1:]\n",
        "print(\"sub matrix=\\n\",a)\n",
        "arr[arr>4]=0\n",
        "print(\"replaced matrix=\\n\",arr)"
      ],
      "metadata": {
        "colab": {
          "base_uri": "https://localhost:8080/"
        },
        "id": "5DDOsgvleIEr",
        "outputId": "8abd15d5-9606-4360-b836-19793fd44622"
      },
      "execution_count": null,
      "outputs": [
        {
          "output_type": "stream",
          "name": "stdout",
          "text": [
            "array=\n",
            " [[1 2 3]\n",
            " [4 5 6]\n",
            " [7 8 9]]\n",
            "sub matrix=\n",
            " [[5 6]\n",
            " [8 9]]\n",
            "replaced matrix=\n",
            " [[1 2 3]\n",
            " [4 0 0]\n",
            " [0 0 0]]\n"
          ]
        }
      ]
    },
    {
      "cell_type": "markdown",
      "source": [
        "6.\n",
        "Create two 1D arrays:\n",
        "•\n",
        "a = np.array([1, 2, 3])\n",
        "•\n",
        "b = np.array([4, 5, 6])\n",
        "•\n",
        "Perform element-wise addition, multiplication, and division."
      ],
      "metadata": {
        "id": "jwOprgCSg5vD"
      }
    },
    {
      "cell_type": "code",
      "source": [
        "import numpy as np\n",
        "a = np.array([1, 2, 3])\n",
        "b = np.array([4, 5, 6])\n",
        "print(\"addition:\\n\",a+b)\n",
        "print(\"mutiplication:\\n\",a*b)\n",
        "print(\"division:\\n\",a/b)"
      ],
      "metadata": {
        "colab": {
          "base_uri": "https://localhost:8080/"
        },
        "id": "JFqYqyTDhADS",
        "outputId": "5e87a13a-bef1-4bbf-8efd-9085b9cc3711"
      },
      "execution_count": null,
      "outputs": [
        {
          "output_type": "stream",
          "name": "stdout",
          "text": [
            "addition:\n",
            " [5 7 9]\n",
            "mutiplication:\n",
            " [ 4 10 18]\n",
            "division:\n",
            " [0.25 0.4  0.5 ]\n"
          ]
        }
      ]
    },
    {
      "cell_type": "markdown",
      "source": [
        "Create a random NumPy array of size (4, 4). Compute:\n",
        "•\n",
        "Mean of each column.\n",
        "•\n",
        "Maximum value of the entire array.\n",
        "•\n",
        "Sum of all elements."
      ],
      "metadata": {
        "id": "Ln_8QWQBhnEO"
      }
    },
    {
      "cell_type": "code",
      "source": [
        "import numpy as np\n",
        "array=np.array([[1,2,3,4],[5,6,7,8],[8,7,6,5],[4,3,2,1]])\n",
        "print(\"max:\",np.max(array))\n",
        "c0 = array[:, 0]\n",
        "c1 = array[:, 1]\n",
        "c2 = array[:, 2]\n",
        "c3= array[:, 3]\n",
        "print(\"mean of c1:\",np.mean(c0))\n",
        "print(\"mean of c2:\",np.mean(c1))\n",
        "print(\"mean of c3:\",np.mean(c2))\n",
        "print(\"mean of c4:\",np.mean(c3))\n",
        "print(\"sum:\",np.sum(array))"
      ],
      "metadata": {
        "colab": {
          "base_uri": "https://localhost:8080/"
        },
        "id": "3pnbnJXNhte1",
        "outputId": "033cc655-1cbc-43b9-a5ef-3c772ac95fba"
      },
      "execution_count": null,
      "outputs": [
        {
          "output_type": "stream",
          "name": "stdout",
          "text": [
            "max: 8\n",
            "mean of c1: 4.5\n",
            "mean of c2: 4.5\n",
            "mean of c3: 4.5\n",
            "mean of c4: 4.5\n",
            "sum: 72\n"
          ]
        }
      ]
    },
    {
      "cell_type": "markdown",
      "source": [
        "8.\n",
        "Given the array arr = np.array([1, 2, 3, 4]), add 10 to each element and multiply the result by 2."
      ],
      "metadata": {
        "id": "jCkzg35fm-O8"
      }
    },
    {
      "cell_type": "code",
      "source": [
        "import numpy as np\n",
        "arr = np.array([1, 2, 3, 4])\n",
        "print(\"adding 10\",arr+10)\n",
        "print(\"multiply by 2\",arr*2)"
      ],
      "metadata": {
        "colab": {
          "base_uri": "https://localhost:8080/"
        },
        "id": "PWkBBFWBnAs1",
        "outputId": "0fcc5da1-fad1-498e-c411-b3ad534a1b6a"
      },
      "execution_count": null,
      "outputs": [
        {
          "output_type": "stream",
          "name": "stdout",
          "text": [
            "adding 10 [11 12 13 14]\n",
            "multiply by 2 [2 4 6 8]\n"
          ]
        }
      ]
    },
    {
      "cell_type": "markdown",
      "source": [
        "9.\n",
        "Perform advanced slicing and indexing on a 3D array. Create a 3D NumPy array arr of shape (3, 4, 5) with random integers ranging from 1 to 100. Perform the following:\n",
        "•\n",
        "Extract the second \"layer\" (i.e., the second 2D array) in the first dimension.\n",
        "•\n",
        "Extract the first two rows and the last three columns from each \"layer.\"\n",
        "•\n",
        "Replace all elements divisible by 3 with -1."
      ],
      "metadata": {
        "id": "dcqRCbp6nhIX"
      }
    },
    {
      "cell_type": "code",
      "source": [
        "import numpy as np\n",
        "arr=np.random.randint(1,101,size=(3,4,5))\n",
        "print(arr)\n",
        "arr2=arr[:,:2,:3]\n",
        "print(\"sliced array:\\n\",arr2)\n",
        "arr[arr%3==0]=-1\n",
        "print(\"replaced array:\\n\",arr)"
      ],
      "metadata": {
        "id": "MvvXHQ7_nv--",
        "colab": {
          "base_uri": "https://localhost:8080/"
        },
        "outputId": "c8850b4c-7056-4200-e7eb-f4daa09d15a3"
      },
      "execution_count": null,
      "outputs": [
        {
          "output_type": "stream",
          "name": "stdout",
          "text": [
            "[[[ 38  92  66  53  11]\n",
            "  [  3   7  52  60  42]\n",
            "  [ 88  67  74  25 100]\n",
            "  [ 20   2  57  90  15]]\n",
            "\n",
            " [[ 61   6  57  59  27]\n",
            "  [ 68  27  69  62  50]\n",
            "  [ 26  12  89  60  80]\n",
            "  [ 14  81  49  81  25]]\n",
            "\n",
            " [[ 50  80  82  71  26]\n",
            "  [ 56  91 100  80  17]\n",
            "  [ 15  25  11  11  90]\n",
            "  [100  87  44  49  66]]]\n",
            "sliced array:\n",
            " [[[ 38  92  66]\n",
            "  [  3   7  52]]\n",
            "\n",
            " [[ 61   6  57]\n",
            "  [ 68  27  69]]\n",
            "\n",
            " [[ 50  80  82]\n",
            "  [ 56  91 100]]]\n",
            "replaced array:\n",
            " [[[ 38  92  -1  53  11]\n",
            "  [ -1   7  52  -1  -1]\n",
            "  [ 88  67  74  25 100]\n",
            "  [ 20   2  -1  -1  -1]]\n",
            "\n",
            " [[ 61  -1  -1  59  -1]\n",
            "  [ 68  -1  -1  62  50]\n",
            "  [ 26  -1  89  -1  80]\n",
            "  [ 14  -1  49  -1  25]]\n",
            "\n",
            " [[ 50  80  82  71  26]\n",
            "  [ 56  91 100  80  17]\n",
            "  [ -1  25  11  11  -1]\n",
            "  [100  -1  44  49  -1]]]\n"
          ]
        }
      ]
    },
    {
      "cell_type": "markdown",
      "source": [
        "10. Work with broadcasting and advanced operations in NumPy. Create a NumPy array arr of shape (3, 3) with random integers between\n",
        "1 and 20. Perform the following:\n",
        "•\n",
        "Subtract the mean of each row from its respective elements (row-wise normalization).\n",
        "•\n",
        "Create a new array by squaring all the elements in arr.\n",
        "•\n",
        "Find the indices of the top 3 maximum values in the entire array."
      ],
      "metadata": {
        "id": "3AvTtfr2Cy9R"
      }
    },
    {
      "cell_type": "code",
      "source": [
        "import numpy as np\n",
        "a=np.random.randint(1,20,size=(3,3))\n",
        "print(a)\n",
        "print(\"after subtracting mean:\\n\")\n",
        "row1=a[0:1]-np.mean(a[0:1])\n",
        "row2=a[1:2]-np.mean(a[1:2])\n",
        "row3=a[2:3]-np.mean(a[2:3])\n",
        "print(row1,\"\\n\",row2,\"\\n\",row3)\n",
        "b=a*a\n",
        "print(\"squarred array:\\n\",b)\n",
        "top_indices = np.argsort(a, axis=None)[-3:]\n",
        "\n",
        "\n",
        "top_2d_indices = np.unravel_index(top_indices, a.shape)\n",
        "\n",
        "\n",
        "print(\"Top 3 indices:\", list(zip(top_2d_indices[0], top_2d_indices[1])))\n",
        "print(\"Top 3 values:\", a[top_2d_indices])\n",
        "\n",
        "\n",
        "\n"
      ],
      "metadata": {
        "colab": {
          "base_uri": "https://localhost:8080/"
        },
        "id": "GWNIhC6YD6Vi",
        "outputId": "587805f9-6fff-4ab4-ee0c-3b5ea4f8ef51"
      },
      "execution_count": 1,
      "outputs": [
        {
          "output_type": "stream",
          "name": "stdout",
          "text": [
            "[[18 16 14]\n",
            " [ 5 11 12]\n",
            " [16 17  1]]\n",
            "after subtracting mean:\n",
            "\n",
            "[[ 2.  0. -2.]] \n",
            " [[-4.33333333  1.66666667  2.66666667]] \n",
            " [[  4.66666667   5.66666667 -10.33333333]]\n",
            "squarred array:\n",
            " [[324 256 196]\n",
            " [ 25 121 144]\n",
            " [256 289   1]]\n",
            "Top 3 indices: [(2, 0), (2, 1), (0, 0)]\n",
            "Top 3 values: [16 17 18]\n"
          ]
        }
      ]
    }
  ]
}