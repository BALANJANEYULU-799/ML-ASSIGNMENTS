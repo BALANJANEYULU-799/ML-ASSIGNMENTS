{
  "nbformat": 4,
  "nbformat_minor": 0,
  "metadata": {
    "colab": {
      "provenance": [],
      "authorship_tag": "ABX9TyOUBLGAnz1Hx+uM3of+RFxe",
      "include_colab_link": true
    },
    "kernelspec": {
      "name": "python3",
      "display_name": "Python 3"
    },
    "language_info": {
      "name": "python"
    }
  },
  "cells": [
    {
      "cell_type": "markdown",
      "metadata": {
        "id": "view-in-github",
        "colab_type": "text"
      },
      "source": [
        "<a href=\"https://colab.research.google.com/github/BALANJANEYULU-799/ML-ASSIGNMENTS/blob/main/MLAssignment6.ipynb\" target=\"_parent\"><img src=\"https://colab.research.google.com/assets/colab-badge.svg\" alt=\"Open In Colab\"/></a>"
      ]
    },
    {
      "cell_type": "markdown",
      "source": [],
      "metadata": {
        "id": "ZYqjFtJh8YQ_"
      }
    },
    {
      "cell_type": "code",
      "source": [
        "import pandas as pd\n",
        "from sklearn.linear_model import LinearRegression, Lasso, Ridge\n",
        "from sklearn.model_selection import train_test_split\n",
        "from sklearn.metrics import mean_absolute_error, mean_squared_error, r2_score\n",
        "from sklearn.preprocessing import OneHotEncoder\n",
        "from sklearn.compose import ColumnTransformer\n",
        "from sklearn.pipeline import Pipeline\n",
        "import numpy as np\n",
        "\n",
        "\n",
        "data = pd.read_csv(\"/content/50_Startups.csv\")\n",
        "\n",
        "\n",
        "if data.isnull().sum().any():\n",
        "    print(\"Data contains missing values. Please handle them before proceeding.\")\n",
        "else:\n",
        "\n",
        "    X = data.drop(\"Profit\", axis=1)\n",
        "    y = data[\"Profit\"]\n",
        "\n",
        "    categorical_features = ['State']\n",
        "    numerical_features = X.columns.difference(categorical_features)\n",
        "s\n",
        "    preprocessor = ColumnTransformer(\n",
        "        transformers=[\n",
        "            ('num', 'passthrough', numerical_features),\n",
        "            ('cat', OneHotEncoder(), categorical_features)\n",
        "        ])\n",
        "\n",
        "\n",
        "    X_train, X_test, y_train, y_test = train_test_split(X, y, test_size=0.2, random_state=42)\n",
        "\n",
        "    def fit_and_evaluate_model(model):\n",
        "        pipeline = Pipeline(steps=[('preprocessor', preprocessor),\n",
        "                                    ('model', model)])\n",
        "        pipeline.fit(X_train, y_train)\n",
        "        y_pred = pipeline.predict(X_test)\n",
        "\n",
        "        mae = mean_absolute_error(y_test, y_pred)\n",
        "        mse = mean_squared_error(y_test, y_pred)\n",
        "        rmse = np.sqrt(mse)\n",
        "        r2 = r2_score(y_test, y_pred)\n",
        "\n",
        "        return mae, mse, rmse, r2\n",
        "\n",
        "    print(\"No Regularization\")\n",
        "    mae, mse, rmse, r2 = fit_and_evaluate_model(LinearRegression())\n",
        "    print(f\"MAE: {mae}\")\n",
        "    print(f\"MSE: {mse}\")\n",
        "    print(f\"RMSE: {rmse}\")\n",
        "    print(f\"R2 Score: {r2}\")\n",
        "\n",
        "\n",
        "    print(\"\\nL1 Regularization\")\n",
        "    mae, mse, rmse, r2 = fit_and_evaluate_model(Lasso(alpha=0.1))\n",
        "    print(f\"MAE: {mae}\")\n",
        "    print(f\"MSE: {mse}\")\n",
        "    print(f\"RMSE: {rmse}\")\n",
        "    print(f\"R2 Score: {r2}\")\n",
        "\n",
        "\n",
        "    print(\"\\nL2 Regularization\")\n",
        "    mae, mse, rmse, r2 = fit_and_evaluate_model(Ridge(alpha=0.1))\n",
        "    print(f\"MAE: {mae}\")\n",
        "    print(f\"MSE: {mse}\")\n",
        "    print(f\"RMSE: {rmse}\")\n",
        "    print(f\"R2 Score: {r2}\")"
      ],
      "metadata": {
        "colab": {
          "base_uri": "https://localhost:8080/"
        },
        "id": "HaKfDl6zCKkg",
        "outputId": "7bd56960-b30d-4335-af60-b66bfd770303"
      },
      "execution_count": 11,
      "outputs": [
        {
          "output_type": "stream",
          "name": "stdout",
          "text": [
            "No Regularization\n",
            "MAE: 6961.477813275179\n",
            "MSE: 82010363.04496202\n",
            "RMSE: 9055.95732349496\n",
            "R2 Score: 0.8987266414320475\n",
            "\n",
            "L1 Regularization\n",
            "MAE: 6961.489359153964\n",
            "MSE: 82009534.96788247\n",
            "RMSE: 9055.911603360673\n",
            "R2 Score: 0.8987276640119249\n",
            "\n",
            "L2 Regularization\n",
            "MAE: 6961.614185693828\n",
            "MSE: 82000822.36490285\n",
            "RMSE: 9055.430545529178\n",
            "R2 Score: 0.8987384230737417\n"
          ]
        },
        {
          "output_type": "stream",
          "name": "stderr",
          "text": [
            "/usr/local/lib/python3.10/dist-packages/sklearn/linear_model/_coordinate_descent.py:695: ConvergenceWarning: Objective did not converge. You might want to increase the number of iterations, check the scale of the features or consider increasing regularisation. Duality gap: 1.033e+08, tolerance: 6.886e+06\n",
            "  model = cd_fast.enet_coordinate_descent(\n"
          ]
        }
      ]
    }
  ]
}